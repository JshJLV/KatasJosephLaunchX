{
 "cells": [
  {
   "cell_type": "markdown",
   "metadata": {},
   "source": [
    "## Ejercicio 1\n",
    "Funciones"
   ]
  },
  {
   "cell_type": "code",
   "execution_count": 13,
   "metadata": {},
   "outputs": [
    {
     "name": "stdout",
     "output_type": "stream",
     "text": [
      "\n",
      "    total de combustible: 180\n",
      "    promedio de combustible: 60.0\n",
      "    \n"
     ]
    }
   ],
   "source": [
    "tanque1 = 70\n",
    "tanque2 = 50\n",
    "tanque3 = 60\n",
    "\n",
    "def informe(*args):\n",
    "    total_combustible = sum(args)\n",
    "    promedio(total_combustible)\n",
    "    return \"\"\"\n",
    "    total de combustible: {}\n",
    "    promedio de combustible: {}\n",
    "    \"\"\".format(total_combustible, promedio(total_combustible))\n",
    "\n",
    "def promedio(total_combustible):\n",
    "    promedio_combustible = total_combustible / 3\n",
    "    return promedio_combustible\n",
    "\n",
    "print(informe(tanque1, tanque2, tanque3))"
   ]
  },
  {
   "cell_type": "markdown",
   "metadata": {},
   "source": [
    "## Ejercicio 2\n",
    "Argumentos de palabra clave"
   ]
  },
  {
   "cell_type": "code",
   "execution_count": 24,
   "metadata": {},
   "outputs": [
    {
     "name": "stdout",
     "output_type": "stream",
     "text": [
      "\n",
      "    destino: moon\n",
      "    tiempo: 25 min\n",
      "    total de combustible: 3000 litros\n",
      "    tanque interno: quedan 1000 litros\n",
      "tanque externo: quedan 2000 litros\n",
      "\n"
     ]
    }
   ],
   "source": [
    "def informe(destino, *minutos, **combustible):\n",
    "    sum_minutos = sum(minutos)\n",
    "    sum_comsutible = sum(combustible.values())\n",
    "    \n",
    "    reporte_mision = f\"\"\"\n",
    "    destino: {destino}\n",
    "    tiempo: {sum_minutos} min\n",
    "    total de combustible: {sum_comsutible} litros\n",
    "    \"\"\"\n",
    "\n",
    "    for tanque, gas in combustible.items():\n",
    "        reporte_mision += f\"tanque {tanque}: quedan {gas} litros\\n\"\n",
    "\n",
    "    return reporte_mision\n",
    "    \n",
    "print(informe('moon', 10, 15, interno = 1000, externo = 2000))\n",
    "    "
   ]
  }
 ],
 "metadata": {
  "interpreter": {
   "hash": "d4e9c96b52311935a818a8a2c0e7ef7d8902f56eb1c72d38311bf535f7ec55aa"
  },
  "kernelspec": {
   "display_name": "Python 3.10.2 64-bit",
   "language": "python",
   "name": "python3"
  },
  "language_info": {
   "codemirror_mode": {
    "name": "ipython",
    "version": 3
   },
   "file_extension": ".py",
   "mimetype": "text/x-python",
   "name": "python",
   "nbconvert_exporter": "python",
   "pygments_lexer": "ipython3",
   "version": "3.10.2"
  },
  "orig_nbformat": 4
 },
 "nbformat": 4,
 "nbformat_minor": 2
}
