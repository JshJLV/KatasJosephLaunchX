{
 "cells": [
  {
   "cell_type": "markdown",
   "metadata": {},
   "source": [
    "## Ejercicio 1\n",
    "Operadores aritmeticos"
   ]
  },
  {
   "cell_type": "code",
   "execution_count": 4,
   "metadata": {},
   "outputs": [
    {
     "name": "stdout",
     "output_type": "stream",
     "text": [
      "Distancia entre la tierra y jupiter\n",
      "Distancia en km: 628949330\n",
      "Distancia en millas: 390577534\n"
     ]
    }
   ],
   "source": [
    "tierra = 149597870 # km\n",
    "jupiter = 778547200 #km\n",
    "conversion = 0.621\n",
    "distance = abs(tierra - jupiter)\n",
    "print('Distancia entre la tierra y jupiter')\n",
    "print('Distancia en km: {}'.format(distance))\n",
    "print('Distancia en millas: {}'.format(round(distance * conversion)))"
   ]
  },
  {
   "cell_type": "markdown",
   "metadata": {},
   "source": [
    "## Ejercicio 2\n",
    "Cadenas de numeros y valores absolutos"
   ]
  },
  {
   "cell_type": "code",
   "execution_count": 5,
   "metadata": {},
   "outputs": [
    {
     "name": "stdout",
     "output_type": "stream",
     "text": [
      "78300000\n"
     ]
    }
   ],
   "source": [
    "planeta1 = int(input('digite la distancia del primera planeta'))\n",
    "planeta2 = int(input('digite la distancia del segundo planeta'))\n",
    "\n",
    "distance = abs(planeta1 - planeta2)\n",
    "print(distance)"
   ]
  }
 ],
 "metadata": {
  "interpreter": {
   "hash": "d4e9c96b52311935a818a8a2c0e7ef7d8902f56eb1c72d38311bf535f7ec55aa"
  },
  "kernelspec": {
   "display_name": "Python 3.10.2 64-bit",
   "language": "python",
   "name": "python3"
  },
  "language_info": {
   "codemirror_mode": {
    "name": "ipython",
    "version": 3
   },
   "file_extension": ".py",
   "mimetype": "text/x-python",
   "name": "python",
   "nbconvert_exporter": "python",
   "pygments_lexer": "ipython3",
   "version": "3.10.2"
  },
  "orig_nbformat": 4
 },
 "nbformat": 4,
 "nbformat_minor": 2
}
