{
 "cells": [
  {
   "cell_type": "markdown",
   "metadata": {},
   "source": [
    "## Ejercicio 1\n",
    "Uso de operadores if, elif y else"
   ]
  },
  {
   "cell_type": "code",
   "execution_count": 7,
   "metadata": {},
   "outputs": [
    {
     "name": "stdout",
     "output_type": "stream",
     "text": [
      "Todo termino señores, no tenemos escapatoria\n"
     ]
    }
   ],
   "source": [
    "vAsteroid = 49\n",
    "\n",
    "if vAsteroid > 25:\n",
    "    print('Todo termino señores, no tenemos escapatoria')\n",
    "else:\n",
    "    print('No pasa nada, no hay peligro')\n"
   ]
  },
  {
   "cell_type": "markdown",
   "metadata": {},
   "source": [
    "parte 2"
   ]
  },
  {
   "cell_type": "code",
   "execution_count": null,
   "metadata": {},
   "outputs": [],
   "source": [
    "vAsteroid = 19\n",
    "\n",
    "if vAsteroid >= 20:\n",
    "    print('Miren el cielo, pasara un asteroide')\n",
    "else:\n",
    "    print('No pasa nada')\n"
   ]
  },
  {
   "cell_type": "markdown",
   "metadata": {},
   "source": [
    "## Ejercicio 2\n",
    "Uso de operadores and y or"
   ]
  },
  {
   "cell_type": "code",
   "execution_count": 17,
   "metadata": {},
   "outputs": [
    {
     "name": "stdout",
     "output_type": "stream",
     "text": [
      "No pasa nada\n"
     ]
    }
   ],
   "source": [
    "#velocidad\n",
    "vAsteroid = 15\n",
    "#tamaño \n",
    "sAsteroid = 19\n",
    "\n",
    "if (vAsteroid or sAsteroid) > 25:\n",
    "    print('Peligro, viene un asteroide')\n",
    "elif vAsteroid >= 20:\n",
    "    if sAsteroid > 25:\n",
    "        print('Peligro, viene un asteroide')\n",
    "    else:\n",
    "        print('Puedes ver luces en el cielo')\n",
    "else:\n",
    "    print('No pasa nada')"
   ]
  }
 ],
 "metadata": {
  "interpreter": {
   "hash": "d4e9c96b52311935a818a8a2c0e7ef7d8902f56eb1c72d38311bf535f7ec55aa"
  },
  "kernelspec": {
   "display_name": "Python 3.10.2 64-bit",
   "language": "python",
   "name": "python3"
  },
  "language_info": {
   "codemirror_mode": {
    "name": "ipython",
    "version": 3
   },
   "file_extension": ".py",
   "mimetype": "text/x-python",
   "name": "python",
   "nbconvert_exporter": "python",
   "pygments_lexer": "ipython3",
   "version": "3.10.2"
  },
  "orig_nbformat": 4
 },
 "nbformat": 4,
 "nbformat_minor": 2
}
