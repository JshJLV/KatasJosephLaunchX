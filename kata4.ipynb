{
 "cells": [
  {
   "cell_type": "markdown",
   "metadata": {},
   "source": [
    "## Ejercicio 1\n",
    "Transformar cadenas"
   ]
  },
  {
   "cell_type": "code",
   "execution_count": 52,
   "metadata": {},
   "outputs": [
    {
     "name": "stdout",
     "output_type": "stream",
     "text": [
      " \n",
      "    On average, the Moon moves 4cm away from the Earth every year\n",
      " \n",
      "    The highest daylight temperature of the Moon is 127 Celsius\n"
     ]
    }
   ],
   "source": [
    "text = \"\"\"Interesting facts about the Moon. \n",
    "    The Moon is Earth's only satellite. \n",
    "    There are several interesting facts about the Moon and how it affects life here on Earth. \n",
    "    On average, the Moon moves 4cm away from the Earth every year. \n",
    "    This yearly drift is not significant enough to cause immediate effects on Earth. \n",
    "    The highest daylight temperature of the Moon is 127 C.\"\"\"\n",
    "\n",
    "text = text.split('.')\n",
    "\n",
    "word1 = 'average'\n",
    "word2 = 'temperature'\n",
    "word3 = 'distance'\n",
    "\n",
    "for i in text:\n",
    "    if word1 in i:\n",
    "        print(i.replace('C', 'Celsius'))\n",
    "    if word2 in i:\n",
    "        print(i.replace('C', 'Celsius'))\n",
    "    if word3 in i:\n",
    "        print(i.replace('C', 'Celsius'))"
   ]
  },
  {
   "cell_type": "markdown",
   "metadata": {},
   "source": [
    "## Ejercicio 2\n",
    "Formateando cadenas"
   ]
  },
  {
   "cell_type": "code",
   "execution_count": 53,
   "metadata": {},
   "outputs": [
    {
     "name": "stdout",
     "output_type": "stream",
     "text": [
      "La gravedad en Tierra \n",
      "    Nombre: Tierra\n",
      "    gravedad en Luna: 1.6199999999999999\n",
      "La gravedad en Marte \n",
      "    Nombre: Marte\n",
      "    gravedad en Ganimedes: 1.4300000000000002\n"
     ]
    }
   ],
   "source": [
    "#datos\n",
    "name = 'Luna'\n",
    "gravity = 0.00162 # in km\n",
    "planet = 'Tierra'\n",
    "\n",
    "title = 'La gravedad en {}'.format(planet)\n",
    "gravity = gravity *1000\n",
    "plantilla = \"\"\"\n",
    "    Nombre: {}\n",
    "    gravedad en {}: {}\"\"\".format(planet,name, gravity)\n",
    "\n",
    "print(title, plantilla)\n",
    "\n",
    "# Plantilla 2\n",
    "name = 'Ganimedes'\n",
    "gravity = 0.00143\n",
    "planet = 'Marte'\n",
    "\n",
    "title = 'La gravedad en {}'.format(planet)\n",
    "gravity *= 1000\n",
    "plantilla2 = \"\"\"\n",
    "    Nombre: {}\n",
    "    gravedad en {}: {}\"\"\".format(planet,name, gravity)\n",
    "print(title, plantilla2)"
   ]
  }
 ],
 "metadata": {
  "interpreter": {
   "hash": "d4e9c96b52311935a818a8a2c0e7ef7d8902f56eb1c72d38311bf535f7ec55aa"
  },
  "kernelspec": {
   "display_name": "Python 3.10.2 64-bit",
   "language": "python",
   "name": "python3"
  },
  "language_info": {
   "codemirror_mode": {
    "name": "ipython",
    "version": 3
   },
   "file_extension": ".py",
   "mimetype": "text/x-python",
   "name": "python",
   "nbconvert_exporter": "python",
   "pygments_lexer": "ipython3",
   "version": "3.10.2"
  },
  "orig_nbformat": 4
 },
 "nbformat": 4,
 "nbformat_minor": 2
}
